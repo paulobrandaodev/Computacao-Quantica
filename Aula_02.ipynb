{
 "cells": [
  {
   "cell_type": "code",
   "execution_count": 1,
   "metadata": {},
   "outputs": [
    {
     "name": "stdout",
     "output_type": "stream",
     "text": [
      "Defaulting to user installation because normal site-packages is not writeable\n",
      "Requirement already satisfied: pyfirmata in c:\\users\\paulo brandao\\appdata\\roaming\\python\\python39\\site-packages (1.1.0)\n",
      "Requirement already satisfied: pyserial in c:\\users\\paulo brandao\\appdata\\roaming\\python\\python39\\site-packages (from pyfirmata) (3.5)\n",
      "Defaulting to user installation because normal site-packages is not writeable\n",
      "Requirement already satisfied: qiskit in c:\\users\\paulo brandao\\appdata\\roaming\\python\\python39\\site-packages (0.43.1)\n",
      "Requirement already satisfied: qiskit-terra==0.24.1 in c:\\users\\paulo brandao\\appdata\\roaming\\python\\python39\\site-packages (from qiskit) (0.24.1)\n",
      "Requirement already satisfied: qiskit-aer==0.12.0 in c:\\users\\paulo brandao\\appdata\\roaming\\python\\python39\\site-packages (from qiskit) (0.12.0)\n",
      "Requirement already satisfied: qiskit-ibmq-provider==0.20.2 in c:\\users\\paulo brandao\\appdata\\roaming\\python\\python39\\site-packages (from qiskit) (0.20.2)\n",
      "Requirement already satisfied: scipy>=1.0 in c:\\programdata\\anaconda3\\lib\\site-packages (from qiskit-aer==0.12.0->qiskit) (1.7.3)\n",
      "Requirement already satisfied: numpy>=1.16.3 in c:\\programdata\\anaconda3\\lib\\site-packages (from qiskit-aer==0.12.0->qiskit) (1.21.5)\n",
      "Requirement already satisfied: python-dateutil>=2.8.0 in c:\\programdata\\anaconda3\\lib\\site-packages (from qiskit-ibmq-provider==0.20.2->qiskit) (2.8.2)\n",
      "Requirement already satisfied: requests>=2.19 in c:\\programdata\\anaconda3\\lib\\site-packages (from qiskit-ibmq-provider==0.20.2->qiskit) (2.27.1)\n",
      "Requirement already satisfied: websocket-client>=1.5.1 in c:\\users\\paulo brandao\\appdata\\roaming\\python\\python39\\site-packages (from qiskit-ibmq-provider==0.20.2->qiskit) (1.5.3)\n",
      "Requirement already satisfied: urllib3>=1.21.1 in c:\\programdata\\anaconda3\\lib\\site-packages (from qiskit-ibmq-provider==0.20.2->qiskit) (1.26.9)\n",
      "Requirement already satisfied: websockets>=10.0 in c:\\users\\paulo brandao\\appdata\\roaming\\python\\python39\\site-packages (from qiskit-ibmq-provider==0.20.2->qiskit) (11.0.3)\n",
      "Requirement already satisfied: requests-ntlm<=1.1.0 in c:\\users\\paulo brandao\\appdata\\roaming\\python\\python39\\site-packages (from qiskit-ibmq-provider==0.20.2->qiskit) (1.1.0)\n",
      "Requirement already satisfied: stevedore>=3.0.0 in c:\\users\\paulo brandao\\appdata\\roaming\\python\\python39\\site-packages (from qiskit-terra==0.24.1->qiskit) (5.1.0)\n",
      "Requirement already satisfied: dill>=0.3 in c:\\users\\paulo brandao\\appdata\\roaming\\python\\python39\\site-packages (from qiskit-terra==0.24.1->qiskit) (0.3.6)\n",
      "Requirement already satisfied: sympy>=1.3 in c:\\programdata\\anaconda3\\lib\\site-packages (from qiskit-terra==0.24.1->qiskit) (1.10.1)\n",
      "Requirement already satisfied: rustworkx>=0.12.0 in c:\\users\\paulo brandao\\appdata\\roaming\\python\\python39\\site-packages (from qiskit-terra==0.24.1->qiskit) (0.13.0)\n",
      "Requirement already satisfied: psutil>=5 in c:\\programdata\\anaconda3\\lib\\site-packages (from qiskit-terra==0.24.1->qiskit) (5.8.0)\n",
      "Requirement already satisfied: ply>=3.10 in c:\\users\\paulo brandao\\appdata\\roaming\\python\\python39\\site-packages (from qiskit-terra==0.24.1->qiskit) (3.11)\n",
      "Requirement already satisfied: six>=1.5 in c:\\programdata\\anaconda3\\lib\\site-packages (from python-dateutil>=2.8.0->qiskit-ibmq-provider==0.20.2->qiskit) (1.16.0)\n",
      "Requirement already satisfied: certifi>=2017.4.17 in c:\\programdata\\anaconda3\\lib\\site-packages (from requests>=2.19->qiskit-ibmq-provider==0.20.2->qiskit) (2021.10.8)\n",
      "Requirement already satisfied: idna<4,>=2.5 in c:\\programdata\\anaconda3\\lib\\site-packages (from requests>=2.19->qiskit-ibmq-provider==0.20.2->qiskit) (3.3)\n",
      "Requirement already satisfied: charset-normalizer~=2.0.0 in c:\\programdata\\anaconda3\\lib\\site-packages (from requests>=2.19->qiskit-ibmq-provider==0.20.2->qiskit) (2.0.4)\n",
      "Requirement already satisfied: ntlm-auth>=1.0.2 in c:\\users\\paulo brandao\\appdata\\roaming\\python\\python39\\site-packages (from requests-ntlm<=1.1.0->qiskit-ibmq-provider==0.20.2->qiskit) (1.5.0)\n",
      "Requirement already satisfied: cryptography>=1.3 in c:\\programdata\\anaconda3\\lib\\site-packages (from requests-ntlm<=1.1.0->qiskit-ibmq-provider==0.20.2->qiskit) (3.4.8)\n",
      "Requirement already satisfied: cffi>=1.12 in c:\\programdata\\anaconda3\\lib\\site-packages (from cryptography>=1.3->requests-ntlm<=1.1.0->qiskit-ibmq-provider==0.20.2->qiskit) (1.15.0)\n",
      "Requirement already satisfied: pycparser in c:\\programdata\\anaconda3\\lib\\site-packages (from cffi>=1.12->cryptography>=1.3->requests-ntlm<=1.1.0->qiskit-ibmq-provider==0.20.2->qiskit) (2.21)\n",
      "Requirement already satisfied: pbr!=2.1.0,>=2.0.0 in c:\\users\\paulo brandao\\appdata\\roaming\\python\\python39\\site-packages (from stevedore>=3.0.0->qiskit-terra==0.24.1->qiskit) (5.11.1)\n",
      "Requirement already satisfied: mpmath>=0.19 in c:\\programdata\\anaconda3\\lib\\site-packages (from sympy>=1.3->qiskit-terra==0.24.1->qiskit) (1.2.1)\n",
      "Defaulting to user installation because normal site-packages is not writeable\n",
      "Requirement already satisfied: pylatexenc in c:\\users\\paulo brandao\\appdata\\roaming\\python\\python39\\site-packages (2.10)\n"
     ]
    }
   ],
   "source": [
    "!pip install pyfirmata\n",
    "!pip install qiskit\n",
    "!pip install pylatexenc"
   ]
  },
  {
   "cell_type": "code",
   "execution_count": 2,
   "metadata": {},
   "outputs": [],
   "source": [
    "import numpy as np\n",
    "import matplotlib.pyplot as plt\n",
    "from qiskit import *\n",
    "from qiskit.circuit import *\n",
    "from qiskit.visualization import *\n",
    "import pyfirmata\n",
    "import time\n",
    "\n"
   ]
  },
  {
   "cell_type": "code",
   "execution_count": 33,
   "metadata": {},
   "outputs": [],
   "source": [
    "port = 'COM3'\n",
    "board = pyfirmata.Arduino(port)"
   ]
  },
  {
   "cell_type": "code",
   "execution_count": 59,
   "metadata": {},
   "outputs": [],
   "source": [
    "board.digital[8].write(1)\n",
    "board.digital[9].write(1)\n",
    "board.digital[10].write(1)\n",
    "board.digital[11].write(1)\n"
   ]
  },
  {
   "cell_type": "code",
   "execution_count": 60,
   "metadata": {},
   "outputs": [],
   "source": [
    "board.digital[8].write(0)\n",
    "board.digital[9].write(0)\n",
    "board.digital[10].write(0)\n",
    "board.digital[11].write(0)"
   ]
  }
 ],
 "metadata": {
  "kernelspec": {
   "display_name": "base",
   "language": "python",
   "name": "python3"
  },
  "language_info": {
   "codemirror_mode": {
    "name": "ipython",
    "version": 3
   },
   "file_extension": ".py",
   "mimetype": "text/x-python",
   "name": "python",
   "nbconvert_exporter": "python",
   "pygments_lexer": "ipython3",
   "version": "3.9.12"
  },
  "orig_nbformat": 4
 },
 "nbformat": 4,
 "nbformat_minor": 2
}
